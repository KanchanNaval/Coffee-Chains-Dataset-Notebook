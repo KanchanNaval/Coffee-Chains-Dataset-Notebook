{
 "cells": [
  {
   "cell_type": "code",
   "execution_count": 1,
   "id": "ccb334c8",
   "metadata": {
    "_cell_guid": "b1076dfc-b9ad-4769-8c92-a6c4dae69d19",
    "_uuid": "8f2839f25d086af736a60e9eeb907d3b93b6e0e5",
    "execution": {
     "iopub.execute_input": "2024-06-15T09:37:54.289531Z",
     "iopub.status.busy": "2024-06-15T09:37:54.289027Z",
     "iopub.status.idle": "2024-06-15T09:37:55.282232Z",
     "shell.execute_reply": "2024-06-15T09:37:55.280925Z"
    },
    "papermill": {
     "duration": 1.010134,
     "end_time": "2024-06-15T09:37:55.285261",
     "exception": false,
     "start_time": "2024-06-15T09:37:54.275127",
     "status": "completed"
    },
    "tags": []
   },
   "outputs": [
    {
     "name": "stdout",
     "output_type": "stream",
     "text": [
      "/kaggle/input/coffee-chains-dataset/Coffee.csv\n"
     ]
    }
   ],
   "source": [
    "# This Python 3 environment comes with many helpful analytics libraries installed\n",
    "# It is defined by the kaggle/python Docker image: https://github.com/kaggle/docker-python\n",
    "# For example, here's several helpful packages to load\n",
    "\n",
    "import numpy as np # linear algebra\n",
    "import pandas as pd # data processing, CSV file I/O (e.g. pd.read_csv)\n",
    "\n",
    "# Input data files are available in the read-only \"../input/\" directory\n",
    "# For example, running this (by clicking run or pressing Shift+Enter) will list all files under the input directory\n",
    "\n",
    "import os\n",
    "for dirname, _, filenames in os.walk('/kaggle/input'):\n",
    "    for filename in filenames:\n",
    "        print(os.path.join(dirname, filename))\n",
    "\n",
    "# You can write up to 20GB to the current directory (/kaggle/working/) that gets preserved as output when you create a version using \"Save & Run All\" \n",
    "# You can also write temporary files to /kaggle/temp/, but they won't be saved outside of the current session"
   ]
  },
  {
   "cell_type": "markdown",
   "id": "e3f6a317",
   "metadata": {
    "papermill": {
     "duration": 0.010076,
     "end_time": "2024-06-15T09:37:55.306125",
     "exception": false,
     "start_time": "2024-06-15T09:37:55.296049",
     "status": "completed"
    },
    "tags": []
   },
   "source": [
    "# Step 1: Import Libraries"
   ]
  },
  {
   "cell_type": "code",
   "execution_count": 2,
   "id": "623a311a",
   "metadata": {
    "execution": {
     "iopub.execute_input": "2024-06-15T09:37:55.328650Z",
     "iopub.status.busy": "2024-06-15T09:37:55.328104Z",
     "iopub.status.idle": "2024-06-15T09:37:56.851855Z",
     "shell.execute_reply": "2024-06-15T09:37:56.850467Z"
    },
    "papermill": {
     "duration": 1.538632,
     "end_time": "2024-06-15T09:37:56.855119",
     "exception": false,
     "start_time": "2024-06-15T09:37:55.316487",
     "status": "completed"
    },
    "tags": []
   },
   "outputs": [],
   "source": [
    "import pandas as pd\n",
    "import numpy as np\n",
    "import seaborn as sns\n",
    "import matplotlib.pyplot as plt\n",
    "import warnings\n",
    "warnings.simplefilter(\"ignore\")"
   ]
  },
  {
   "cell_type": "code",
   "execution_count": 3,
   "id": "ea456ea6",
   "metadata": {
    "execution": {
     "iopub.execute_input": "2024-06-15T09:37:56.879864Z",
     "iopub.status.busy": "2024-06-15T09:37:56.879338Z",
     "iopub.status.idle": "2024-06-15T09:37:56.926468Z",
     "shell.execute_reply": "2024-06-15T09:37:56.925149Z"
    },
    "papermill": {
     "duration": 0.063483,
     "end_time": "2024-06-15T09:37:56.929742",
     "exception": false,
     "start_time": "2024-06-15T09:37:56.866259",
     "status": "completed"
    },
    "tags": []
   },
   "outputs": [],
   "source": [
    "df = pd.read_csv('/kaggle/input/coffee-chains-dataset/Coffee.csv')"
   ]
  },
  {
   "cell_type": "code",
   "execution_count": 4,
   "id": "383caaba",
   "metadata": {
    "execution": {
     "iopub.execute_input": "2024-06-15T09:37:56.953261Z",
     "iopub.status.busy": "2024-06-15T09:37:56.952828Z",
     "iopub.status.idle": "2024-06-15T09:37:56.988803Z",
     "shell.execute_reply": "2024-06-15T09:37:56.987284Z"
    },
    "papermill": {
     "duration": 0.050738,
     "end_time": "2024-06-15T09:37:56.991397",
     "exception": false,
     "start_time": "2024-06-15T09:37:56.940659",
     "status": "completed"
    },
    "tags": []
   },
   "outputs": [
    {
     "data": {
      "text/html": [
       "<div>\n",
       "<style scoped>\n",
       "    .dataframe tbody tr th:only-of-type {\n",
       "        vertical-align: middle;\n",
       "    }\n",
       "\n",
       "    .dataframe tbody tr th {\n",
       "        vertical-align: top;\n",
       "    }\n",
       "\n",
       "    .dataframe thead th {\n",
       "        text-align: right;\n",
       "    }\n",
       "</style>\n",
       "<table border=\"1\" class=\"dataframe\">\n",
       "  <thead>\n",
       "    <tr style=\"text-align: right;\">\n",
       "      <th></th>\n",
       "      <th>Area Code</th>\n",
       "      <th>Date</th>\n",
       "      <th>Market</th>\n",
       "      <th>Market Size</th>\n",
       "      <th>Product</th>\n",
       "      <th>Product Line</th>\n",
       "      <th>Product Type</th>\n",
       "      <th>State</th>\n",
       "      <th>Type</th>\n",
       "      <th>Budget COGS</th>\n",
       "      <th>Budget Margin</th>\n",
       "      <th>Budget Profit</th>\n",
       "      <th>Budget Sales</th>\n",
       "      <th>COGS</th>\n",
       "      <th>Inventory</th>\n",
       "      <th>Margin</th>\n",
       "      <th>Marketing</th>\n",
       "      <th>Profit</th>\n",
       "      <th>Sales</th>\n",
       "      <th>Total Expenses</th>\n",
       "    </tr>\n",
       "  </thead>\n",
       "  <tbody>\n",
       "    <tr>\n",
       "      <th>0</th>\n",
       "      <td>719</td>\n",
       "      <td>40909</td>\n",
       "      <td>Central</td>\n",
       "      <td>Major Market</td>\n",
       "      <td>Amaretto</td>\n",
       "      <td>Beans</td>\n",
       "      <td>Coffee</td>\n",
       "      <td>Colorado</td>\n",
       "      <td>Regular</td>\n",
       "      <td>90</td>\n",
       "      <td>130</td>\n",
       "      <td>100</td>\n",
       "      <td>220</td>\n",
       "      <td>89</td>\n",
       "      <td>777</td>\n",
       "      <td>130</td>\n",
       "      <td>24</td>\n",
       "      <td>94</td>\n",
       "      <td>219</td>\n",
       "      <td>36</td>\n",
       "    </tr>\n",
       "    <tr>\n",
       "      <th>1</th>\n",
       "      <td>970</td>\n",
       "      <td>40909</td>\n",
       "      <td>Central</td>\n",
       "      <td>Major Market</td>\n",
       "      <td>Colombian</td>\n",
       "      <td>Beans</td>\n",
       "      <td>Coffee</td>\n",
       "      <td>Colorado</td>\n",
       "      <td>Regular</td>\n",
       "      <td>80</td>\n",
       "      <td>110</td>\n",
       "      <td>80</td>\n",
       "      <td>190</td>\n",
       "      <td>83</td>\n",
       "      <td>623</td>\n",
       "      <td>107</td>\n",
       "      <td>27</td>\n",
       "      <td>68</td>\n",
       "      <td>190</td>\n",
       "      <td>39</td>\n",
       "    </tr>\n",
       "    <tr>\n",
       "      <th>2</th>\n",
       "      <td>970</td>\n",
       "      <td>40909</td>\n",
       "      <td>Central</td>\n",
       "      <td>Major Market</td>\n",
       "      <td>Decaf Irish Cream</td>\n",
       "      <td>Beans</td>\n",
       "      <td>Coffee</td>\n",
       "      <td>Colorado</td>\n",
       "      <td>Decaf</td>\n",
       "      <td>100</td>\n",
       "      <td>140</td>\n",
       "      <td>110</td>\n",
       "      <td>240</td>\n",
       "      <td>95</td>\n",
       "      <td>821</td>\n",
       "      <td>139</td>\n",
       "      <td>26</td>\n",
       "      <td>101</td>\n",
       "      <td>234</td>\n",
       "      <td>38</td>\n",
       "    </tr>\n",
       "    <tr>\n",
       "      <th>3</th>\n",
       "      <td>303</td>\n",
       "      <td>40909</td>\n",
       "      <td>Central</td>\n",
       "      <td>Major Market</td>\n",
       "      <td>Green Tea</td>\n",
       "      <td>Leaves</td>\n",
       "      <td>Tea</td>\n",
       "      <td>Colorado</td>\n",
       "      <td>Regular</td>\n",
       "      <td>30</td>\n",
       "      <td>50</td>\n",
       "      <td>30</td>\n",
       "      <td>80</td>\n",
       "      <td>44</td>\n",
       "      <td>623</td>\n",
       "      <td>56</td>\n",
       "      <td>14</td>\n",
       "      <td>30</td>\n",
       "      <td>100</td>\n",
       "      <td>26</td>\n",
       "    </tr>\n",
       "    <tr>\n",
       "      <th>4</th>\n",
       "      <td>303</td>\n",
       "      <td>40909</td>\n",
       "      <td>Central</td>\n",
       "      <td>Major Market</td>\n",
       "      <td>Caffe Mocha</td>\n",
       "      <td>Beans</td>\n",
       "      <td>Espresso</td>\n",
       "      <td>Colorado</td>\n",
       "      <td>Regular</td>\n",
       "      <td>60</td>\n",
       "      <td>90</td>\n",
       "      <td>70</td>\n",
       "      <td>150</td>\n",
       "      <td>54</td>\n",
       "      <td>456</td>\n",
       "      <td>80</td>\n",
       "      <td>15</td>\n",
       "      <td>54</td>\n",
       "      <td>134</td>\n",
       "      <td>26</td>\n",
       "    </tr>\n",
       "    <tr>\n",
       "      <th>5</th>\n",
       "      <td>720</td>\n",
       "      <td>40909</td>\n",
       "      <td>Central</td>\n",
       "      <td>Major Market</td>\n",
       "      <td>Decaf Espresso</td>\n",
       "      <td>Beans</td>\n",
       "      <td>Espresso</td>\n",
       "      <td>Colorado</td>\n",
       "      <td>Decaf</td>\n",
       "      <td>80</td>\n",
       "      <td>130</td>\n",
       "      <td>80</td>\n",
       "      <td>210</td>\n",
       "      <td>72</td>\n",
       "      <td>558</td>\n",
       "      <td>108</td>\n",
       "      <td>23</td>\n",
       "      <td>53</td>\n",
       "      <td>180</td>\n",
       "      <td>55</td>\n",
       "    </tr>\n",
       "    <tr>\n",
       "      <th>6</th>\n",
       "      <td>970</td>\n",
       "      <td>40909</td>\n",
       "      <td>Central</td>\n",
       "      <td>Major Market</td>\n",
       "      <td>Chamomile</td>\n",
       "      <td>Leaves</td>\n",
       "      <td>Herbal Tea</td>\n",
       "      <td>Colorado</td>\n",
       "      <td>Decaf</td>\n",
       "      <td>140</td>\n",
       "      <td>160</td>\n",
       "      <td>110</td>\n",
       "      <td>300</td>\n",
       "      <td>170</td>\n",
       "      <td>1091</td>\n",
       "      <td>171</td>\n",
       "      <td>47</td>\n",
       "      <td>99</td>\n",
       "      <td>341</td>\n",
       "      <td>72</td>\n",
       "    </tr>\n",
       "    <tr>\n",
       "      <th>7</th>\n",
       "      <td>719</td>\n",
       "      <td>40909</td>\n",
       "      <td>Central</td>\n",
       "      <td>Major Market</td>\n",
       "      <td>Lemon</td>\n",
       "      <td>Leaves</td>\n",
       "      <td>Herbal Tea</td>\n",
       "      <td>Colorado</td>\n",
       "      <td>Decaf</td>\n",
       "      <td>50</td>\n",
       "      <td>80</td>\n",
       "      <td>20</td>\n",
       "      <td>130</td>\n",
       "      <td>63</td>\n",
       "      <td>435</td>\n",
       "      <td>87</td>\n",
       "      <td>57</td>\n",
       "      <td>0</td>\n",
       "      <td>150</td>\n",
       "      <td>87</td>\n",
       "    </tr>\n",
       "    <tr>\n",
       "      <th>8</th>\n",
       "      <td>970</td>\n",
       "      <td>40909</td>\n",
       "      <td>Central</td>\n",
       "      <td>Major Market</td>\n",
       "      <td>Mint</td>\n",
       "      <td>Leaves</td>\n",
       "      <td>Herbal Tea</td>\n",
       "      <td>Colorado</td>\n",
       "      <td>Decaf</td>\n",
       "      <td>50</td>\n",
       "      <td>70</td>\n",
       "      <td>40</td>\n",
       "      <td>120</td>\n",
       "      <td>60</td>\n",
       "      <td>336</td>\n",
       "      <td>80</td>\n",
       "      <td>19</td>\n",
       "      <td>33</td>\n",
       "      <td>140</td>\n",
       "      <td>47</td>\n",
       "    </tr>\n",
       "    <tr>\n",
       "      <th>9</th>\n",
       "      <td>719</td>\n",
       "      <td>40909</td>\n",
       "      <td>Central</td>\n",
       "      <td>Major Market</td>\n",
       "      <td>Darjeeling</td>\n",
       "      <td>Leaves</td>\n",
       "      <td>Tea</td>\n",
       "      <td>Colorado</td>\n",
       "      <td>Regular</td>\n",
       "      <td>40</td>\n",
       "      <td>70</td>\n",
       "      <td>20</td>\n",
       "      <td>110</td>\n",
       "      <td>58</td>\n",
       "      <td>338</td>\n",
       "      <td>72</td>\n",
       "      <td>22</td>\n",
       "      <td>17</td>\n",
       "      <td>130</td>\n",
       "      <td>55</td>\n",
       "    </tr>\n",
       "  </tbody>\n",
       "</table>\n",
       "</div>"
      ],
      "text/plain": [
       "   Area Code   Date   Market   Market Size            Product Product Line  \\\n",
       "0        719  40909  Central  Major Market           Amaretto        Beans   \n",
       "1        970  40909  Central  Major Market          Colombian        Beans   \n",
       "2        970  40909  Central  Major Market  Decaf Irish Cream        Beans   \n",
       "3        303  40909  Central  Major Market          Green Tea       Leaves   \n",
       "4        303  40909  Central  Major Market        Caffe Mocha        Beans   \n",
       "5        720  40909  Central  Major Market     Decaf Espresso        Beans   \n",
       "6        970  40909  Central  Major Market          Chamomile       Leaves   \n",
       "7        719  40909  Central  Major Market              Lemon       Leaves   \n",
       "8        970  40909  Central  Major Market               Mint       Leaves   \n",
       "9        719  40909  Central  Major Market         Darjeeling       Leaves   \n",
       "\n",
       "  Product Type     State     Type  Budget COGS  Budget Margin  Budget Profit  \\\n",
       "0       Coffee  Colorado  Regular           90            130            100   \n",
       "1       Coffee  Colorado  Regular           80            110             80   \n",
       "2       Coffee  Colorado    Decaf          100            140            110   \n",
       "3          Tea  Colorado  Regular           30             50             30   \n",
       "4     Espresso  Colorado  Regular           60             90             70   \n",
       "5     Espresso  Colorado    Decaf           80            130             80   \n",
       "6   Herbal Tea  Colorado    Decaf          140            160            110   \n",
       "7   Herbal Tea  Colorado    Decaf           50             80             20   \n",
       "8   Herbal Tea  Colorado    Decaf           50             70             40   \n",
       "9          Tea  Colorado  Regular           40             70             20   \n",
       "\n",
       "   Budget Sales  COGS  Inventory  Margin  Marketing  Profit  Sales  \\\n",
       "0           220    89        777     130         24      94    219   \n",
       "1           190    83        623     107         27      68    190   \n",
       "2           240    95        821     139         26     101    234   \n",
       "3            80    44        623      56         14      30    100   \n",
       "4           150    54        456      80         15      54    134   \n",
       "5           210    72        558     108         23      53    180   \n",
       "6           300   170       1091     171         47      99    341   \n",
       "7           130    63        435      87         57       0    150   \n",
       "8           120    60        336      80         19      33    140   \n",
       "9           110    58        338      72         22      17    130   \n",
       "\n",
       "   Total Expenses  \n",
       "0              36  \n",
       "1              39  \n",
       "2              38  \n",
       "3              26  \n",
       "4              26  \n",
       "5              55  \n",
       "6              72  \n",
       "7              87  \n",
       "8              47  \n",
       "9              55  "
      ]
     },
     "execution_count": 4,
     "metadata": {},
     "output_type": "execute_result"
    }
   ],
   "source": [
    "df.head(10)"
   ]
  },
  {
   "cell_type": "code",
   "execution_count": 5,
   "id": "b5d23527",
   "metadata": {
    "execution": {
     "iopub.execute_input": "2024-06-15T09:37:57.015115Z",
     "iopub.status.busy": "2024-06-15T09:37:57.014677Z",
     "iopub.status.idle": "2024-06-15T09:37:57.043364Z",
     "shell.execute_reply": "2024-06-15T09:37:57.042131Z"
    },
    "papermill": {
     "duration": 0.04381,
     "end_time": "2024-06-15T09:37:57.046174",
     "exception": false,
     "start_time": "2024-06-15T09:37:57.002364",
     "status": "completed"
    },
    "tags": []
   },
   "outputs": [
    {
     "data": {
      "text/html": [
       "<div>\n",
       "<style scoped>\n",
       "    .dataframe tbody tr th:only-of-type {\n",
       "        vertical-align: middle;\n",
       "    }\n",
       "\n",
       "    .dataframe tbody tr th {\n",
       "        vertical-align: top;\n",
       "    }\n",
       "\n",
       "    .dataframe thead th {\n",
       "        text-align: right;\n",
       "    }\n",
       "</style>\n",
       "<table border=\"1\" class=\"dataframe\">\n",
       "  <thead>\n",
       "    <tr style=\"text-align: right;\">\n",
       "      <th></th>\n",
       "      <th>Area Code</th>\n",
       "      <th>Date</th>\n",
       "      <th>Market</th>\n",
       "      <th>Market Size</th>\n",
       "      <th>Product</th>\n",
       "      <th>Product Line</th>\n",
       "      <th>Product Type</th>\n",
       "      <th>State</th>\n",
       "      <th>Type</th>\n",
       "      <th>Budget COGS</th>\n",
       "      <th>Budget Margin</th>\n",
       "      <th>Budget Profit</th>\n",
       "      <th>Budget Sales</th>\n",
       "      <th>COGS</th>\n",
       "      <th>Inventory</th>\n",
       "      <th>Margin</th>\n",
       "      <th>Marketing</th>\n",
       "      <th>Profit</th>\n",
       "      <th>Sales</th>\n",
       "      <th>Total Expenses</th>\n",
       "    </tr>\n",
       "  </thead>\n",
       "  <tbody>\n",
       "    <tr>\n",
       "      <th>4106</th>\n",
       "      <td>816</td>\n",
       "      <td>41609</td>\n",
       "      <td>Central</td>\n",
       "      <td>Small Market</td>\n",
       "      <td>Decaf Espresso</td>\n",
       "      <td>Beans</td>\n",
       "      <td>Espresso</td>\n",
       "      <td>Missouri</td>\n",
       "      <td>Decaf</td>\n",
       "      <td>30</td>\n",
       "      <td>60</td>\n",
       "      <td>50</td>\n",
       "      <td>90</td>\n",
       "      <td>31</td>\n",
       "      <td>844</td>\n",
       "      <td>46</td>\n",
       "      <td>8</td>\n",
       "      <td>40</td>\n",
       "      <td>82</td>\n",
       "      <td>19</td>\n",
       "    </tr>\n",
       "    <tr>\n",
       "      <th>2250</th>\n",
       "      <td>435</td>\n",
       "      <td>41275</td>\n",
       "      <td>West</td>\n",
       "      <td>Small Market</td>\n",
       "      <td>Green Tea</td>\n",
       "      <td>Leaves</td>\n",
       "      <td>Tea</td>\n",
       "      <td>Utah</td>\n",
       "      <td>Regular</td>\n",
       "      <td>10</td>\n",
       "      <td>30</td>\n",
       "      <td>10</td>\n",
       "      <td>40</td>\n",
       "      <td>29</td>\n",
       "      <td>169</td>\n",
       "      <td>36</td>\n",
       "      <td>11</td>\n",
       "      <td>-14</td>\n",
       "      <td>73</td>\n",
       "      <td>47</td>\n",
       "    </tr>\n",
       "    <tr>\n",
       "      <th>2054</th>\n",
       "      <td>405</td>\n",
       "      <td>41244</td>\n",
       "      <td>South</td>\n",
       "      <td>Small Market</td>\n",
       "      <td>Colombian</td>\n",
       "      <td>Beans</td>\n",
       "      <td>Coffee</td>\n",
       "      <td>Oklahoma</td>\n",
       "      <td>Regular</td>\n",
       "      <td>90</td>\n",
       "      <td>130</td>\n",
       "      <td>100</td>\n",
       "      <td>220</td>\n",
       "      <td>81</td>\n",
       "      <td>551</td>\n",
       "      <td>104</td>\n",
       "      <td>26</td>\n",
       "      <td>66</td>\n",
       "      <td>185</td>\n",
       "      <td>38</td>\n",
       "    </tr>\n",
       "    <tr>\n",
       "      <th>4054</th>\n",
       "      <td>541</td>\n",
       "      <td>41579</td>\n",
       "      <td>West</td>\n",
       "      <td>Small Market</td>\n",
       "      <td>Lemon</td>\n",
       "      <td>Leaves</td>\n",
       "      <td>Herbal Tea</td>\n",
       "      <td>Oregon</td>\n",
       "      <td>Decaf</td>\n",
       "      <td>80</td>\n",
       "      <td>100</td>\n",
       "      <td>70</td>\n",
       "      <td>180</td>\n",
       "      <td>88</td>\n",
       "      <td>561</td>\n",
       "      <td>112</td>\n",
       "      <td>29</td>\n",
       "      <td>104</td>\n",
       "      <td>213</td>\n",
       "      <td>42</td>\n",
       "    </tr>\n",
       "    <tr>\n",
       "      <th>1389</th>\n",
       "      <td>775</td>\n",
       "      <td>41122</td>\n",
       "      <td>West</td>\n",
       "      <td>Small Market</td>\n",
       "      <td>Earl Grey</td>\n",
       "      <td>Leaves</td>\n",
       "      <td>Tea</td>\n",
       "      <td>Nevada</td>\n",
       "      <td>Regular</td>\n",
       "      <td>170</td>\n",
       "      <td>190</td>\n",
       "      <td>130</td>\n",
       "      <td>360</td>\n",
       "      <td>266</td>\n",
       "      <td>1797</td>\n",
       "      <td>266</td>\n",
       "      <td>74</td>\n",
       "      <td>167</td>\n",
       "      <td>532</td>\n",
       "      <td>99</td>\n",
       "    </tr>\n",
       "  </tbody>\n",
       "</table>\n",
       "</div>"
      ],
      "text/plain": [
       "      Area Code   Date   Market   Market Size         Product Product Line  \\\n",
       "4106        816  41609  Central  Small Market  Decaf Espresso        Beans   \n",
       "2250        435  41275     West  Small Market       Green Tea       Leaves   \n",
       "2054        405  41244    South  Small Market       Colombian        Beans   \n",
       "4054        541  41579     West  Small Market           Lemon       Leaves   \n",
       "1389        775  41122     West  Small Market       Earl Grey       Leaves   \n",
       "\n",
       "     Product Type     State     Type  Budget COGS  Budget Margin  \\\n",
       "4106     Espresso  Missouri    Decaf           30             60   \n",
       "2250          Tea      Utah  Regular           10             30   \n",
       "2054       Coffee  Oklahoma  Regular           90            130   \n",
       "4054   Herbal Tea    Oregon    Decaf           80            100   \n",
       "1389          Tea    Nevada  Regular          170            190   \n",
       "\n",
       "      Budget Profit  Budget Sales  COGS  Inventory  Margin  Marketing  Profit  \\\n",
       "4106             50            90    31        844      46          8      40   \n",
       "2250             10            40    29        169      36         11     -14   \n",
       "2054            100           220    81        551     104         26      66   \n",
       "4054             70           180    88        561     112         29     104   \n",
       "1389            130           360   266       1797     266         74     167   \n",
       "\n",
       "      Sales  Total Expenses  \n",
       "4106     82              19  \n",
       "2250     73              47  \n",
       "2054    185              38  \n",
       "4054    213              42  \n",
       "1389    532              99  "
      ]
     },
     "execution_count": 5,
     "metadata": {},
     "output_type": "execute_result"
    }
   ],
   "source": [
    "df.sample(5)"
   ]
  },
  {
   "cell_type": "code",
   "execution_count": 6,
   "id": "43ff78d5",
   "metadata": {
    "execution": {
     "iopub.execute_input": "2024-06-15T09:37:57.071254Z",
     "iopub.status.busy": "2024-06-15T09:37:57.070852Z",
     "iopub.status.idle": "2024-06-15T09:37:57.102229Z",
     "shell.execute_reply": "2024-06-15T09:37:57.100728Z"
    },
    "papermill": {
     "duration": 0.048105,
     "end_time": "2024-06-15T09:37:57.105912",
     "exception": false,
     "start_time": "2024-06-15T09:37:57.057807",
     "status": "completed"
    },
    "tags": []
   },
   "outputs": [
    {
     "name": "stdout",
     "output_type": "stream",
     "text": [
      "<class 'pandas.core.frame.DataFrame'>\n",
      "RangeIndex: 4248 entries, 0 to 4247\n",
      "Data columns (total 20 columns):\n",
      " #   Column          Non-Null Count  Dtype \n",
      "---  ------          --------------  ----- \n",
      " 0   Area Code       4248 non-null   int64 \n",
      " 1   Date            4248 non-null   int64 \n",
      " 2   Market          4248 non-null   object\n",
      " 3   Market Size     4248 non-null   object\n",
      " 4   Product         4248 non-null   object\n",
      " 5   Product Line    4248 non-null   object\n",
      " 6   Product Type    4248 non-null   object\n",
      " 7   State           4248 non-null   object\n",
      " 8   Type            4248 non-null   object\n",
      " 9   Budget COGS     4248 non-null   int64 \n",
      " 10  Budget Margin   4248 non-null   int64 \n",
      " 11  Budget Profit   4248 non-null   int64 \n",
      " 12  Budget Sales    4248 non-null   int64 \n",
      " 13  COGS            4248 non-null   int64 \n",
      " 14  Inventory       4248 non-null   int64 \n",
      " 15  Margin          4248 non-null   int64 \n",
      " 16  Marketing       4248 non-null   int64 \n",
      " 17  Profit          4248 non-null   int64 \n",
      " 18  Sales           4248 non-null   int64 \n",
      " 19  Total Expenses  4248 non-null   int64 \n",
      "dtypes: int64(13), object(7)\n",
      "memory usage: 663.9+ KB\n"
     ]
    }
   ],
   "source": [
    "df.info()"
   ]
  },
  {
   "cell_type": "code",
   "execution_count": 7,
   "id": "a10a33c7",
   "metadata": {
    "execution": {
     "iopub.execute_input": "2024-06-15T09:37:57.131748Z",
     "iopub.status.busy": "2024-06-15T09:37:57.131217Z",
     "iopub.status.idle": "2024-06-15T09:37:57.140287Z",
     "shell.execute_reply": "2024-06-15T09:37:57.139013Z"
    },
    "papermill": {
     "duration": 0.025377,
     "end_time": "2024-06-15T09:37:57.143130",
     "exception": false,
     "start_time": "2024-06-15T09:37:57.117753",
     "status": "completed"
    },
    "tags": []
   },
   "outputs": [
    {
     "data": {
      "text/plain": [
       "Index(['Area Code', 'Date', 'Market', 'Market Size', 'Product', 'Product Line',\n",
       "       'Product Type', 'State', 'Type', 'Budget COGS', 'Budget Margin',\n",
       "       'Budget Profit', 'Budget Sales', 'COGS', 'Inventory', 'Margin',\n",
       "       'Marketing', 'Profit', 'Sales', 'Total Expenses'],\n",
       "      dtype='object')"
      ]
     },
     "execution_count": 7,
     "metadata": {},
     "output_type": "execute_result"
    }
   ],
   "source": [
    "df.columns"
   ]
  },
  {
   "cell_type": "code",
   "execution_count": 8,
   "id": "96a5bcd6",
   "metadata": {
    "execution": {
     "iopub.execute_input": "2024-06-15T09:37:57.169124Z",
     "iopub.status.busy": "2024-06-15T09:37:57.168686Z",
     "iopub.status.idle": "2024-06-15T09:37:57.225839Z",
     "shell.execute_reply": "2024-06-15T09:37:57.224719Z"
    },
    "papermill": {
     "duration": 0.073405,
     "end_time": "2024-06-15T09:37:57.228448",
     "exception": false,
     "start_time": "2024-06-15T09:37:57.155043",
     "status": "completed"
    },
    "tags": []
   },
   "outputs": [
    {
     "data": {
      "text/html": [
       "<div>\n",
       "<style scoped>\n",
       "    .dataframe tbody tr th:only-of-type {\n",
       "        vertical-align: middle;\n",
       "    }\n",
       "\n",
       "    .dataframe tbody tr th {\n",
       "        vertical-align: top;\n",
       "    }\n",
       "\n",
       "    .dataframe thead th {\n",
       "        text-align: right;\n",
       "    }\n",
       "</style>\n",
       "<table border=\"1\" class=\"dataframe\">\n",
       "  <thead>\n",
       "    <tr style=\"text-align: right;\">\n",
       "      <th></th>\n",
       "      <th>Area Code</th>\n",
       "      <th>Date</th>\n",
       "      <th>Budget COGS</th>\n",
       "      <th>Budget Margin</th>\n",
       "      <th>Budget Profit</th>\n",
       "      <th>Budget Sales</th>\n",
       "      <th>COGS</th>\n",
       "      <th>Inventory</th>\n",
       "      <th>Margin</th>\n",
       "      <th>Marketing</th>\n",
       "      <th>Profit</th>\n",
       "      <th>Sales</th>\n",
       "      <th>Total Expenses</th>\n",
       "    </tr>\n",
       "  </thead>\n",
       "  <tbody>\n",
       "    <tr>\n",
       "      <th>count</th>\n",
       "      <td>4248.000000</td>\n",
       "      <td>4248.000000</td>\n",
       "      <td>4248.000000</td>\n",
       "      <td>4248.000000</td>\n",
       "      <td>4248.000000</td>\n",
       "      <td>4248.000000</td>\n",
       "      <td>4248.000000</td>\n",
       "      <td>4248.000000</td>\n",
       "      <td>4248.000000</td>\n",
       "      <td>4248.000000</td>\n",
       "      <td>4248.000000</td>\n",
       "      <td>4248.000000</td>\n",
       "      <td>4248.000000</td>\n",
       "    </tr>\n",
       "    <tr>\n",
       "      <th>mean</th>\n",
       "      <td>582.278013</td>\n",
       "      <td>41258.916667</td>\n",
       "      <td>74.830508</td>\n",
       "      <td>100.819209</td>\n",
       "      <td>60.913371</td>\n",
       "      <td>175.649718</td>\n",
       "      <td>84.433145</td>\n",
       "      <td>749.381356</td>\n",
       "      <td>104.293315</td>\n",
       "      <td>31.185028</td>\n",
       "      <td>61.097693</td>\n",
       "      <td>192.987524</td>\n",
       "      <td>54.063559</td>\n",
       "    </tr>\n",
       "    <tr>\n",
       "      <th>std</th>\n",
       "      <td>221.140310</td>\n",
       "      <td>210.712945</td>\n",
       "      <td>66.238145</td>\n",
       "      <td>92.602725</td>\n",
       "      <td>79.546123</td>\n",
       "      <td>148.891522</td>\n",
       "      <td>67.249769</td>\n",
       "      <td>661.031896</td>\n",
       "      <td>94.342522</td>\n",
       "      <td>27.023264</td>\n",
       "      <td>101.708546</td>\n",
       "      <td>151.133127</td>\n",
       "      <td>32.352598</td>\n",
       "    </tr>\n",
       "    <tr>\n",
       "      <th>min</th>\n",
       "      <td>203.000000</td>\n",
       "      <td>40909.000000</td>\n",
       "      <td>0.000000</td>\n",
       "      <td>-210.000000</td>\n",
       "      <td>-320.000000</td>\n",
       "      <td>0.000000</td>\n",
       "      <td>0.000000</td>\n",
       "      <td>-3534.000000</td>\n",
       "      <td>-302.000000</td>\n",
       "      <td>0.000000</td>\n",
       "      <td>-638.000000</td>\n",
       "      <td>17.000000</td>\n",
       "      <td>10.000000</td>\n",
       "    </tr>\n",
       "    <tr>\n",
       "      <th>25%</th>\n",
       "      <td>417.000000</td>\n",
       "      <td>41083.500000</td>\n",
       "      <td>30.000000</td>\n",
       "      <td>50.000000</td>\n",
       "      <td>20.000000</td>\n",
       "      <td>80.000000</td>\n",
       "      <td>43.000000</td>\n",
       "      <td>432.000000</td>\n",
       "      <td>52.750000</td>\n",
       "      <td>13.000000</td>\n",
       "      <td>17.000000</td>\n",
       "      <td>100.000000</td>\n",
       "      <td>33.000000</td>\n",
       "    </tr>\n",
       "    <tr>\n",
       "      <th>50%</th>\n",
       "      <td>573.000000</td>\n",
       "      <td>41259.500000</td>\n",
       "      <td>50.000000</td>\n",
       "      <td>70.000000</td>\n",
       "      <td>40.000000</td>\n",
       "      <td>130.000000</td>\n",
       "      <td>60.000000</td>\n",
       "      <td>619.000000</td>\n",
       "      <td>76.000000</td>\n",
       "      <td>22.000000</td>\n",
       "      <td>40.000000</td>\n",
       "      <td>138.000000</td>\n",
       "      <td>46.000000</td>\n",
       "    </tr>\n",
       "    <tr>\n",
       "      <th>75%</th>\n",
       "      <td>772.000000</td>\n",
       "      <td>41433.500000</td>\n",
       "      <td>90.000000</td>\n",
       "      <td>130.000000</td>\n",
       "      <td>80.000000</td>\n",
       "      <td>210.000000</td>\n",
       "      <td>100.000000</td>\n",
       "      <td>910.500000</td>\n",
       "      <td>132.000000</td>\n",
       "      <td>39.000000</td>\n",
       "      <td>92.000000</td>\n",
       "      <td>230.000000</td>\n",
       "      <td>65.000000</td>\n",
       "    </tr>\n",
       "    <tr>\n",
       "      <th>max</th>\n",
       "      <td>985.000000</td>\n",
       "      <td>41609.000000</td>\n",
       "      <td>450.000000</td>\n",
       "      <td>690.000000</td>\n",
       "      <td>560.000000</td>\n",
       "      <td>1140.000000</td>\n",
       "      <td>364.000000</td>\n",
       "      <td>8252.000000</td>\n",
       "      <td>613.000000</td>\n",
       "      <td>156.000000</td>\n",
       "      <td>778.000000</td>\n",
       "      <td>912.000000</td>\n",
       "      <td>190.000000</td>\n",
       "    </tr>\n",
       "  </tbody>\n",
       "</table>\n",
       "</div>"
      ],
      "text/plain": [
       "         Area Code          Date  Budget COGS  Budget Margin  Budget Profit  \\\n",
       "count  4248.000000   4248.000000  4248.000000    4248.000000    4248.000000   \n",
       "mean    582.278013  41258.916667    74.830508     100.819209      60.913371   \n",
       "std     221.140310    210.712945    66.238145      92.602725      79.546123   \n",
       "min     203.000000  40909.000000     0.000000    -210.000000    -320.000000   \n",
       "25%     417.000000  41083.500000    30.000000      50.000000      20.000000   \n",
       "50%     573.000000  41259.500000    50.000000      70.000000      40.000000   \n",
       "75%     772.000000  41433.500000    90.000000     130.000000      80.000000   \n",
       "max     985.000000  41609.000000   450.000000     690.000000     560.000000   \n",
       "\n",
       "       Budget Sales         COGS    Inventory       Margin    Marketing  \\\n",
       "count   4248.000000  4248.000000  4248.000000  4248.000000  4248.000000   \n",
       "mean     175.649718    84.433145   749.381356   104.293315    31.185028   \n",
       "std      148.891522    67.249769   661.031896    94.342522    27.023264   \n",
       "min        0.000000     0.000000 -3534.000000  -302.000000     0.000000   \n",
       "25%       80.000000    43.000000   432.000000    52.750000    13.000000   \n",
       "50%      130.000000    60.000000   619.000000    76.000000    22.000000   \n",
       "75%      210.000000   100.000000   910.500000   132.000000    39.000000   \n",
       "max     1140.000000   364.000000  8252.000000   613.000000   156.000000   \n",
       "\n",
       "            Profit        Sales  Total Expenses  \n",
       "count  4248.000000  4248.000000     4248.000000  \n",
       "mean     61.097693   192.987524       54.063559  \n",
       "std     101.708546   151.133127       32.352598  \n",
       "min    -638.000000    17.000000       10.000000  \n",
       "25%      17.000000   100.000000       33.000000  \n",
       "50%      40.000000   138.000000       46.000000  \n",
       "75%      92.000000   230.000000       65.000000  \n",
       "max     778.000000   912.000000      190.000000  "
      ]
     },
     "execution_count": 8,
     "metadata": {},
     "output_type": "execute_result"
    }
   ],
   "source": [
    "df.describe()"
   ]
  },
  {
   "cell_type": "code",
   "execution_count": 9,
   "id": "3191557e",
   "metadata": {
    "execution": {
     "iopub.execute_input": "2024-06-15T09:37:57.255957Z",
     "iopub.status.busy": "2024-06-15T09:37:57.254951Z",
     "iopub.status.idle": "2024-06-15T09:37:57.288315Z",
     "shell.execute_reply": "2024-06-15T09:37:57.287152Z"
    },
    "papermill": {
     "duration": 0.050295,
     "end_time": "2024-06-15T09:37:57.290968",
     "exception": false,
     "start_time": "2024-06-15T09:37:57.240673",
     "status": "completed"
    },
    "tags": []
   },
   "outputs": [
    {
     "data": {
      "text/html": [
       "<div>\n",
       "<style scoped>\n",
       "    .dataframe tbody tr th:only-of-type {\n",
       "        vertical-align: middle;\n",
       "    }\n",
       "\n",
       "    .dataframe tbody tr th {\n",
       "        vertical-align: top;\n",
       "    }\n",
       "\n",
       "    .dataframe thead th {\n",
       "        text-align: right;\n",
       "    }\n",
       "</style>\n",
       "<table border=\"1\" class=\"dataframe\">\n",
       "  <thead>\n",
       "    <tr style=\"text-align: right;\">\n",
       "      <th></th>\n",
       "      <th>Area Code</th>\n",
       "      <th>Date</th>\n",
       "      <th>Market</th>\n",
       "      <th>Market Size</th>\n",
       "      <th>Product</th>\n",
       "      <th>Product Line</th>\n",
       "      <th>Product Type</th>\n",
       "      <th>State</th>\n",
       "      <th>Type</th>\n",
       "      <th>Budget COGS</th>\n",
       "      <th>Budget Margin</th>\n",
       "      <th>Budget Profit</th>\n",
       "      <th>Budget Sales</th>\n",
       "      <th>COGS</th>\n",
       "      <th>Inventory</th>\n",
       "      <th>Margin</th>\n",
       "      <th>Marketing</th>\n",
       "      <th>Profit</th>\n",
       "      <th>Sales</th>\n",
       "      <th>Total Expenses</th>\n",
       "    </tr>\n",
       "  </thead>\n",
       "  <tbody>\n",
       "    <tr>\n",
       "      <th>0</th>\n",
       "      <td>False</td>\n",
       "      <td>False</td>\n",
       "      <td>False</td>\n",
       "      <td>False</td>\n",
       "      <td>False</td>\n",
       "      <td>False</td>\n",
       "      <td>False</td>\n",
       "      <td>False</td>\n",
       "      <td>False</td>\n",
       "      <td>False</td>\n",
       "      <td>False</td>\n",
       "      <td>False</td>\n",
       "      <td>False</td>\n",
       "      <td>False</td>\n",
       "      <td>False</td>\n",
       "      <td>False</td>\n",
       "      <td>False</td>\n",
       "      <td>False</td>\n",
       "      <td>False</td>\n",
       "      <td>False</td>\n",
       "    </tr>\n",
       "    <tr>\n",
       "      <th>1</th>\n",
       "      <td>False</td>\n",
       "      <td>False</td>\n",
       "      <td>False</td>\n",
       "      <td>False</td>\n",
       "      <td>False</td>\n",
       "      <td>False</td>\n",
       "      <td>False</td>\n",
       "      <td>False</td>\n",
       "      <td>False</td>\n",
       "      <td>False</td>\n",
       "      <td>False</td>\n",
       "      <td>False</td>\n",
       "      <td>False</td>\n",
       "      <td>False</td>\n",
       "      <td>False</td>\n",
       "      <td>False</td>\n",
       "      <td>False</td>\n",
       "      <td>False</td>\n",
       "      <td>False</td>\n",
       "      <td>False</td>\n",
       "    </tr>\n",
       "    <tr>\n",
       "      <th>2</th>\n",
       "      <td>False</td>\n",
       "      <td>False</td>\n",
       "      <td>False</td>\n",
       "      <td>False</td>\n",
       "      <td>False</td>\n",
       "      <td>False</td>\n",
       "      <td>False</td>\n",
       "      <td>False</td>\n",
       "      <td>False</td>\n",
       "      <td>False</td>\n",
       "      <td>False</td>\n",
       "      <td>False</td>\n",
       "      <td>False</td>\n",
       "      <td>False</td>\n",
       "      <td>False</td>\n",
       "      <td>False</td>\n",
       "      <td>False</td>\n",
       "      <td>False</td>\n",
       "      <td>False</td>\n",
       "      <td>False</td>\n",
       "    </tr>\n",
       "    <tr>\n",
       "      <th>3</th>\n",
       "      <td>False</td>\n",
       "      <td>False</td>\n",
       "      <td>False</td>\n",
       "      <td>False</td>\n",
       "      <td>False</td>\n",
       "      <td>False</td>\n",
       "      <td>False</td>\n",
       "      <td>False</td>\n",
       "      <td>False</td>\n",
       "      <td>False</td>\n",
       "      <td>False</td>\n",
       "      <td>False</td>\n",
       "      <td>False</td>\n",
       "      <td>False</td>\n",
       "      <td>False</td>\n",
       "      <td>False</td>\n",
       "      <td>False</td>\n",
       "      <td>False</td>\n",
       "      <td>False</td>\n",
       "      <td>False</td>\n",
       "    </tr>\n",
       "    <tr>\n",
       "      <th>4</th>\n",
       "      <td>False</td>\n",
       "      <td>False</td>\n",
       "      <td>False</td>\n",
       "      <td>False</td>\n",
       "      <td>False</td>\n",
       "      <td>False</td>\n",
       "      <td>False</td>\n",
       "      <td>False</td>\n",
       "      <td>False</td>\n",
       "      <td>False</td>\n",
       "      <td>False</td>\n",
       "      <td>False</td>\n",
       "      <td>False</td>\n",
       "      <td>False</td>\n",
       "      <td>False</td>\n",
       "      <td>False</td>\n",
       "      <td>False</td>\n",
       "      <td>False</td>\n",
       "      <td>False</td>\n",
       "      <td>False</td>\n",
       "    </tr>\n",
       "    <tr>\n",
       "      <th>...</th>\n",
       "      <td>...</td>\n",
       "      <td>...</td>\n",
       "      <td>...</td>\n",
       "      <td>...</td>\n",
       "      <td>...</td>\n",
       "      <td>...</td>\n",
       "      <td>...</td>\n",
       "      <td>...</td>\n",
       "      <td>...</td>\n",
       "      <td>...</td>\n",
       "      <td>...</td>\n",
       "      <td>...</td>\n",
       "      <td>...</td>\n",
       "      <td>...</td>\n",
       "      <td>...</td>\n",
       "      <td>...</td>\n",
       "      <td>...</td>\n",
       "      <td>...</td>\n",
       "      <td>...</td>\n",
       "      <td>...</td>\n",
       "    </tr>\n",
       "    <tr>\n",
       "      <th>4243</th>\n",
       "      <td>False</td>\n",
       "      <td>False</td>\n",
       "      <td>False</td>\n",
       "      <td>False</td>\n",
       "      <td>False</td>\n",
       "      <td>False</td>\n",
       "      <td>False</td>\n",
       "      <td>False</td>\n",
       "      <td>False</td>\n",
       "      <td>False</td>\n",
       "      <td>False</td>\n",
       "      <td>False</td>\n",
       "      <td>False</td>\n",
       "      <td>False</td>\n",
       "      <td>False</td>\n",
       "      <td>False</td>\n",
       "      <td>False</td>\n",
       "      <td>False</td>\n",
       "      <td>False</td>\n",
       "      <td>False</td>\n",
       "    </tr>\n",
       "    <tr>\n",
       "      <th>4244</th>\n",
       "      <td>False</td>\n",
       "      <td>False</td>\n",
       "      <td>False</td>\n",
       "      <td>False</td>\n",
       "      <td>False</td>\n",
       "      <td>False</td>\n",
       "      <td>False</td>\n",
       "      <td>False</td>\n",
       "      <td>False</td>\n",
       "      <td>False</td>\n",
       "      <td>False</td>\n",
       "      <td>False</td>\n",
       "      <td>False</td>\n",
       "      <td>False</td>\n",
       "      <td>False</td>\n",
       "      <td>False</td>\n",
       "      <td>False</td>\n",
       "      <td>False</td>\n",
       "      <td>False</td>\n",
       "      <td>False</td>\n",
       "    </tr>\n",
       "    <tr>\n",
       "      <th>4245</th>\n",
       "      <td>False</td>\n",
       "      <td>False</td>\n",
       "      <td>False</td>\n",
       "      <td>False</td>\n",
       "      <td>False</td>\n",
       "      <td>False</td>\n",
       "      <td>False</td>\n",
       "      <td>False</td>\n",
       "      <td>False</td>\n",
       "      <td>False</td>\n",
       "      <td>False</td>\n",
       "      <td>False</td>\n",
       "      <td>False</td>\n",
       "      <td>False</td>\n",
       "      <td>False</td>\n",
       "      <td>False</td>\n",
       "      <td>False</td>\n",
       "      <td>False</td>\n",
       "      <td>False</td>\n",
       "      <td>False</td>\n",
       "    </tr>\n",
       "    <tr>\n",
       "      <th>4246</th>\n",
       "      <td>False</td>\n",
       "      <td>False</td>\n",
       "      <td>False</td>\n",
       "      <td>False</td>\n",
       "      <td>False</td>\n",
       "      <td>False</td>\n",
       "      <td>False</td>\n",
       "      <td>False</td>\n",
       "      <td>False</td>\n",
       "      <td>False</td>\n",
       "      <td>False</td>\n",
       "      <td>False</td>\n",
       "      <td>False</td>\n",
       "      <td>False</td>\n",
       "      <td>False</td>\n",
       "      <td>False</td>\n",
       "      <td>False</td>\n",
       "      <td>False</td>\n",
       "      <td>False</td>\n",
       "      <td>False</td>\n",
       "    </tr>\n",
       "    <tr>\n",
       "      <th>4247</th>\n",
       "      <td>False</td>\n",
       "      <td>False</td>\n",
       "      <td>False</td>\n",
       "      <td>False</td>\n",
       "      <td>False</td>\n",
       "      <td>False</td>\n",
       "      <td>False</td>\n",
       "      <td>False</td>\n",
       "      <td>False</td>\n",
       "      <td>False</td>\n",
       "      <td>False</td>\n",
       "      <td>False</td>\n",
       "      <td>False</td>\n",
       "      <td>False</td>\n",
       "      <td>False</td>\n",
       "      <td>False</td>\n",
       "      <td>False</td>\n",
       "      <td>False</td>\n",
       "      <td>False</td>\n",
       "      <td>False</td>\n",
       "    </tr>\n",
       "  </tbody>\n",
       "</table>\n",
       "<p>4248 rows × 20 columns</p>\n",
       "</div>"
      ],
      "text/plain": [
       "      Area Code   Date  Market  Market Size  Product  Product Line  \\\n",
       "0         False  False   False        False    False         False   \n",
       "1         False  False   False        False    False         False   \n",
       "2         False  False   False        False    False         False   \n",
       "3         False  False   False        False    False         False   \n",
       "4         False  False   False        False    False         False   \n",
       "...         ...    ...     ...          ...      ...           ...   \n",
       "4243      False  False   False        False    False         False   \n",
       "4244      False  False   False        False    False         False   \n",
       "4245      False  False   False        False    False         False   \n",
       "4246      False  False   False        False    False         False   \n",
       "4247      False  False   False        False    False         False   \n",
       "\n",
       "      Product Type  State   Type  Budget COGS  Budget Margin  Budget Profit  \\\n",
       "0            False  False  False        False          False          False   \n",
       "1            False  False  False        False          False          False   \n",
       "2            False  False  False        False          False          False   \n",
       "3            False  False  False        False          False          False   \n",
       "4            False  False  False        False          False          False   \n",
       "...            ...    ...    ...          ...            ...            ...   \n",
       "4243         False  False  False        False          False          False   \n",
       "4244         False  False  False        False          False          False   \n",
       "4245         False  False  False        False          False          False   \n",
       "4246         False  False  False        False          False          False   \n",
       "4247         False  False  False        False          False          False   \n",
       "\n",
       "      Budget Sales   COGS  Inventory  Margin  Marketing  Profit  Sales  \\\n",
       "0            False  False      False   False      False   False  False   \n",
       "1            False  False      False   False      False   False  False   \n",
       "2            False  False      False   False      False   False  False   \n",
       "3            False  False      False   False      False   False  False   \n",
       "4            False  False      False   False      False   False  False   \n",
       "...            ...    ...        ...     ...        ...     ...    ...   \n",
       "4243         False  False      False   False      False   False  False   \n",
       "4244         False  False      False   False      False   False  False   \n",
       "4245         False  False      False   False      False   False  False   \n",
       "4246         False  False      False   False      False   False  False   \n",
       "4247         False  False      False   False      False   False  False   \n",
       "\n",
       "      Total Expenses  \n",
       "0              False  \n",
       "1              False  \n",
       "2              False  \n",
       "3              False  \n",
       "4              False  \n",
       "...              ...  \n",
       "4243           False  \n",
       "4244           False  \n",
       "4245           False  \n",
       "4246           False  \n",
       "4247           False  \n",
       "\n",
       "[4248 rows x 20 columns]"
      ]
     },
     "execution_count": 9,
     "metadata": {},
     "output_type": "execute_result"
    }
   ],
   "source": [
    "df.isnull()"
   ]
  },
  {
   "cell_type": "code",
   "execution_count": 10,
   "id": "913f9ce2",
   "metadata": {
    "execution": {
     "iopub.execute_input": "2024-06-15T09:37:57.319784Z",
     "iopub.status.busy": "2024-06-15T09:37:57.319283Z",
     "iopub.status.idle": "2024-06-15T09:37:57.327618Z",
     "shell.execute_reply": "2024-06-15T09:37:57.326241Z"
    },
    "papermill": {
     "duration": 0.025239,
     "end_time": "2024-06-15T09:37:57.330248",
     "exception": false,
     "start_time": "2024-06-15T09:37:57.305009",
     "status": "completed"
    },
    "tags": []
   },
   "outputs": [
    {
     "data": {
      "text/plain": [
       "(4248, 20)"
      ]
     },
     "execution_count": 10,
     "metadata": {},
     "output_type": "execute_result"
    }
   ],
   "source": [
    "df.shape"
   ]
  },
  {
   "cell_type": "code",
   "execution_count": 11,
   "id": "43251f55",
   "metadata": {
    "execution": {
     "iopub.execute_input": "2024-06-15T09:37:57.359174Z",
     "iopub.status.busy": "2024-06-15T09:37:57.358735Z",
     "iopub.status.idle": "2024-06-15T09:37:57.371878Z",
     "shell.execute_reply": "2024-06-15T09:37:57.370652Z"
    },
    "papermill": {
     "duration": 0.030125,
     "end_time": "2024-06-15T09:37:57.374422",
     "exception": false,
     "start_time": "2024-06-15T09:37:57.344297",
     "status": "completed"
    },
    "tags": []
   },
   "outputs": [
    {
     "data": {
      "text/plain": [
       "Area Code         0\n",
       "Date              0\n",
       "Market            0\n",
       "Market Size       0\n",
       "Product           0\n",
       "Product Line      0\n",
       "Product Type      0\n",
       "State             0\n",
       "Type              0\n",
       "Budget COGS       0\n",
       "Budget Margin     0\n",
       "Budget Profit     0\n",
       "Budget Sales      0\n",
       "COGS              0\n",
       "Inventory         0\n",
       "Margin            0\n",
       "Marketing         0\n",
       "Profit            0\n",
       "Sales             0\n",
       "Total Expenses    0\n",
       "dtype: int64"
      ]
     },
     "execution_count": 11,
     "metadata": {},
     "output_type": "execute_result"
    }
   ],
   "source": [
    "df.isnull().sum()"
   ]
  },
  {
   "cell_type": "code",
   "execution_count": 12,
   "id": "f14625a8",
   "metadata": {
    "execution": {
     "iopub.execute_input": "2024-06-15T09:37:57.403213Z",
     "iopub.status.busy": "2024-06-15T09:37:57.402855Z",
     "iopub.status.idle": "2024-06-15T09:37:57.421762Z",
     "shell.execute_reply": "2024-06-15T09:37:57.420690Z"
    },
    "papermill": {
     "duration": 0.036344,
     "end_time": "2024-06-15T09:37:57.424366",
     "exception": false,
     "start_time": "2024-06-15T09:37:57.388022",
     "status": "completed"
    },
    "tags": []
   },
   "outputs": [
    {
     "data": {
      "text/html": [
       "<div>\n",
       "<style scoped>\n",
       "    .dataframe tbody tr th:only-of-type {\n",
       "        vertical-align: middle;\n",
       "    }\n",
       "\n",
       "    .dataframe tbody tr th {\n",
       "        vertical-align: top;\n",
       "    }\n",
       "\n",
       "    .dataframe thead th {\n",
       "        text-align: right;\n",
       "    }\n",
       "</style>\n",
       "<table border=\"1\" class=\"dataframe\">\n",
       "  <thead>\n",
       "    <tr style=\"text-align: right;\">\n",
       "      <th></th>\n",
       "      <th>Area Code</th>\n",
       "      <th>Date</th>\n",
       "      <th>Market</th>\n",
       "      <th>Market Size</th>\n",
       "      <th>Product</th>\n",
       "      <th>Product Line</th>\n",
       "      <th>Product Type</th>\n",
       "      <th>State</th>\n",
       "      <th>Type</th>\n",
       "      <th>Budget COGS</th>\n",
       "      <th>Budget Margin</th>\n",
       "      <th>Budget Profit</th>\n",
       "      <th>Budget Sales</th>\n",
       "      <th>COGS</th>\n",
       "      <th>Inventory</th>\n",
       "      <th>Margin</th>\n",
       "      <th>Marketing</th>\n",
       "      <th>Profit</th>\n",
       "      <th>Sales</th>\n",
       "      <th>Total Expenses</th>\n",
       "    </tr>\n",
       "  </thead>\n",
       "  <tbody>\n",
       "  </tbody>\n",
       "</table>\n",
       "</div>"
      ],
      "text/plain": [
       "Empty DataFrame\n",
       "Columns: [Area Code, Date, Market, Market Size, Product, Product Line, Product Type, State, Type, Budget COGS, Budget Margin, Budget Profit, Budget Sales, COGS, Inventory, Margin, Marketing, Profit, Sales, Total Expenses]\n",
       "Index: []"
      ]
     },
     "execution_count": 12,
     "metadata": {},
     "output_type": "execute_result"
    }
   ],
   "source": [
    "df[df.duplicated()]"
   ]
  },
  {
   "cell_type": "code",
   "execution_count": 13,
   "id": "612485c2",
   "metadata": {
    "execution": {
     "iopub.execute_input": "2024-06-15T09:37:57.452998Z",
     "iopub.status.busy": "2024-06-15T09:37:57.452568Z",
     "iopub.status.idle": "2024-06-15T09:37:57.468705Z",
     "shell.execute_reply": "2024-06-15T09:37:57.467503Z"
    },
    "papermill": {
     "duration": 0.033227,
     "end_time": "2024-06-15T09:37:57.471151",
     "exception": false,
     "start_time": "2024-06-15T09:37:57.437924",
     "status": "completed"
    },
    "tags": []
   },
   "outputs": [
    {
     "data": {
      "text/plain": [
       "Area Code         156\n",
       "Date               24\n",
       "Market              4\n",
       "Market Size         2\n",
       "Product            13\n",
       "Product Line        2\n",
       "Product Type        4\n",
       "State              20\n",
       "Type                2\n",
       "Budget COGS        41\n",
       "Budget Margin      76\n",
       "Budget Profit      76\n",
       "Budget Sales       89\n",
       "COGS              173\n",
       "Inventory         610\n",
       "Margin            290\n",
       "Marketing         102\n",
       "Profit            466\n",
       "Sales             432\n",
       "Total Expenses    156\n",
       "dtype: int64"
      ]
     },
     "execution_count": 13,
     "metadata": {},
     "output_type": "execute_result"
    }
   ],
   "source": [
    "df.nunique()"
   ]
  },
  {
   "cell_type": "markdown",
   "id": "7268f6c5",
   "metadata": {
    "papermill": {
     "duration": 0.013051,
     "end_time": "2024-06-15T09:37:57.498973",
     "exception": false,
     "start_time": "2024-06-15T09:37:57.485922",
     "status": "completed"
    },
    "tags": []
   },
   "source": [
    "# product_counts"
   ]
  },
  {
   "cell_type": "code",
   "execution_count": 14,
   "id": "4b86c795",
   "metadata": {
    "execution": {
     "iopub.execute_input": "2024-06-15T09:37:57.527149Z",
     "iopub.status.busy": "2024-06-15T09:37:57.526750Z",
     "iopub.status.idle": "2024-06-15T09:37:57.535098Z",
     "shell.execute_reply": "2024-06-15T09:37:57.533698Z"
    },
    "papermill": {
     "duration": 0.025484,
     "end_time": "2024-06-15T09:37:57.537642",
     "exception": false,
     "start_time": "2024-06-15T09:37:57.512158",
     "status": "completed"
    },
    "tags": []
   },
   "outputs": [
    {
     "name": "stdout",
     "output_type": "stream",
     "text": [
      "Product\n",
      "Colombian            480\n",
      "Caffe Mocha          480\n",
      "Lemon                480\n",
      "Decaf Espresso       408\n",
      "Decaf Irish Cream    384\n",
      "Chamomile            384\n",
      "Darjeeling           384\n",
      "Green Tea            288\n",
      "Earl Grey            288\n",
      "Caffe Latte          216\n",
      "Amaretto             192\n",
      "Mint                 192\n",
      "Regular Espresso      72\n",
      "Name: count, dtype: int64\n"
     ]
    }
   ],
   "source": [
    "# Count the number of occurrences of each product\n",
    "\n",
    "product_counts = df['Product'].value_counts()\n",
    "print(product_counts)"
   ]
  },
  {
   "cell_type": "markdown",
   "id": "8f9609b7",
   "metadata": {
    "papermill": {
     "duration": 0.013073,
     "end_time": "2024-06-15T09:37:57.564241",
     "exception": false,
     "start_time": "2024-06-15T09:37:57.551168",
     "status": "completed"
    },
    "tags": []
   },
   "source": [
    "# pie chart (Product Occurrences)"
   ]
  },
  {
   "cell_type": "code",
   "execution_count": 15,
   "id": "fa0989d2",
   "metadata": {
    "execution": {
     "iopub.execute_input": "2024-06-15T09:37:57.593559Z",
     "iopub.status.busy": "2024-06-15T09:37:57.593156Z",
     "iopub.status.idle": "2024-06-15T09:37:58.067754Z",
     "shell.execute_reply": "2024-06-15T09:37:58.066675Z"
    },
    "papermill": {
     "duration": 0.492613,
     "end_time": "2024-06-15T09:37:58.070448",
     "exception": false,
     "start_time": "2024-06-15T09:37:57.577835",
     "status": "completed"
    },
    "tags": []
   },
   "outputs": [
    {
     "data": {
      "image/png": "[encoded data removed]",
      "text/plain": [
       "<Figure size 1000x1000 with 1 Axes>"
      ]
     },
     "metadata": {},
     "output_type": "display_data"
    }
   ],
   "source": [
    "# Create a pie chart\n",
    "plt.figure(figsize=(10, 10))\n",
    "product_counts.plot.pie(autopct='%1.1f%%', startangle=140, colors=plt.cm.Paired.colors)\n",
    "plt.title('Product Occurrences')\n",
    "plt.ylabel('')  # Hide the y-label\n",
    "plt.show()\n"
   ]
  },
  {
   "cell_type": "markdown",
   "id": "2d9f37ff",
   "metadata": {
    "papermill": {
     "duration": 0.015292,
     "end_time": "2024-06-15T09:37:58.100649",
     "exception": false,
     "start_time": "2024-06-15T09:37:58.085357",
     "status": "completed"
    },
    "tags": []
   },
   "source": [
    "# product_line_counts"
   ]
  },
  {
   "cell_type": "code",
   "execution_count": 16,
   "id": "060f2f55",
   "metadata": {
    "execution": {
     "iopub.execute_input": "2024-06-15T09:37:58.132708Z",
     "iopub.status.busy": "2024-06-15T09:37:58.132277Z",
     "iopub.status.idle": "2024-06-15T09:37:58.142118Z",
     "shell.execute_reply": "2024-06-15T09:37:58.140958Z"
    },
    "papermill": {
     "duration": 0.028381,
     "end_time": "2024-06-15T09:37:58.144399",
     "exception": false,
     "start_time": "2024-06-15T09:37:58.116018",
     "status": "completed"
    },
    "tags": []
   },
   "outputs": [
    {
     "data": {
      "text/plain": [
       "Product Line\n",
       "Beans     2232\n",
       "Leaves    2016\n",
       "Name: count, dtype: int64"
      ]
     },
     "execution_count": 16,
     "metadata": {},
     "output_type": "execute_result"
    }
   ],
   "source": [
    "product_line_counts = df['Product Line'].value_counts()\n",
    "product_line_counts"
   ]
  },
  {
   "cell_type": "markdown",
   "id": "893560e4",
   "metadata": {
    "papermill": {
     "duration": 0.014373,
     "end_time": "2024-06-15T09:37:58.173664",
     "exception": false,
     "start_time": "2024-06-15T09:37:58.159291",
     "status": "completed"
    },
    "tags": []
   },
   "source": [
    "# Number of Occurrences of Each Product by State"
   ]
  },
  {
   "cell_type": "code",
   "execution_count": 17,
   "id": "86a8d52f",
   "metadata": {
    "execution": {
     "iopub.execute_input": "2024-06-15T09:37:58.205743Z",
     "iopub.status.busy": "2024-06-15T09:37:58.205319Z",
     "iopub.status.idle": "2024-06-15T09:37:58.694379Z",
     "shell.execute_reply": "2024-06-15T09:37:58.692662Z"
    },
    "papermill": {
     "duration": 0.50775,
     "end_time": "2024-06-15T09:37:58.696501",
     "exception": true,
     "start_time": "2024-06-15T09:37:58.188751",
     "status": "failed"
    },
    "tags": []
   },
   "outputs": [
    {
     "ename": "NameError",
     "evalue": "name 'state_product_counts' is not defined",
     "output_type": "error",
     "traceback": [
      "\u001b[0;31m---------------------------------------------------------------------------\u001b[0m",
      "\u001b[0;31mNameError\u001b[0m                                 Traceback (most recent call last)",
      "Cell \u001b[0;32mIn[17], line 2\u001b[0m\n\u001b[1;32m      1\u001b[0m \u001b[38;5;66;03m# Create a bar chart for the state-product counts\u001b[39;00m\n\u001b[0;32m----> 2\u001b[0m \u001b[43mstate_product_counts\u001b[49m\u001b[38;5;241m.\u001b[39mplot(kind\u001b[38;5;241m=\u001b[39m\u001b[38;5;124m'\u001b[39m\u001b[38;5;124mbar\u001b[39m\u001b[38;5;124m'\u001b[39m, stacked\u001b[38;5;241m=\u001b[39m\u001b[38;5;28;01mTrue\u001b[39;00m, figsize\u001b[38;5;241m=\u001b[39m(\u001b[38;5;241m20\u001b[39m, \u001b[38;5;241m10\u001b[39m), color\u001b[38;5;241m=\u001b[39mplt\u001b[38;5;241m.\u001b[39mcm\u001b[38;5;241m.\u001b[39mPaired\u001b[38;5;241m.\u001b[39mcolors)\n\u001b[1;32m      4\u001b[0m plt\u001b[38;5;241m.\u001b[39mtitle(\u001b[38;5;124m'\u001b[39m\u001b[38;5;124mNumber of Occurrences of Each Product by State\u001b[39m\u001b[38;5;124m'\u001b[39m)\n\u001b[1;32m      5\u001b[0m plt\u001b[38;5;241m.\u001b[39mxlabel(\u001b[38;5;124m'\u001b[39m\u001b[38;5;124mState\u001b[39m\u001b[38;5;124m'\u001b[39m)\n",
      "\u001b[0;31mNameError\u001b[0m: name 'state_product_counts' is not defined"
     ]
    }
   ],
   "source": [
    "# Create a bar chart for the state-product counts\n",
    "state_product_counts.plot(kind='bar', stacked=True, figsize=(20, 10), color=plt.cm.Paired.colors)\n",
    "\n",
    "plt.title('Number of Occurrences of Each Product by State')\n",
    "plt.xlabel('State')\n",
    "plt.ylabel('Count')\n",
    "plt.xticks(rotation=90)\n",
    "plt.legend(title='Product')\n",
    "plt.grid(axis='y')\n",
    "\n",
    "# Show the plot\n",
    "plt.show()"
   ]
  },
  {
   "cell_type": "markdown",
   "id": "8a2ca643",
   "metadata": {
    "papermill": {
     "duration": null,
     "end_time": null,
     "exception": null,
     "start_time": null,
     "status": "pending"
    },
    "tags": []
   },
   "source": [
    "# state_product_counts"
   ]
  },
  {
   "cell_type": "code",
   "execution_count": null,
   "id": "1b77f420",
   "metadata": {
    "execution": {
     "iopub.execute_input": "2024-06-15T09:31:07.751829Z",
     "iopub.status.busy": "2024-06-15T09:31:07.751435Z",
     "iopub.status.idle": "2024-06-15T09:31:07.779591Z",
     "shell.execute_reply": "2024-06-15T09:31:07.778522Z",
     "shell.execute_reply.started": "2024-06-15T09:31:07.751792Z"
    },
    "papermill": {
     "duration": null,
     "end_time": null,
     "exception": null,
     "start_time": null,
     "status": "pending"
    },
    "tags": []
   },
   "outputs": [],
   "source": [
    "# Count the number of occurrences of each product within each state\n",
    "state_product_counts = df.groupby(['State', 'Product']).size().unstack(fill_value=0)\n",
    "state_product_counts\n"
   ]
  },
  {
   "cell_type": "markdown",
   "id": "b4e64c3e",
   "metadata": {
    "papermill": {
     "duration": null,
     "end_time": null,
     "exception": null,
     "start_time": null,
     "status": "pending"
    },
    "tags": []
   },
   "source": [
    "# The most famous product"
   ]
  },
  {
   "cell_type": "code",
   "execution_count": null,
   "id": "d80b9913",
   "metadata": {
    "execution": {
     "iopub.execute_input": "2024-06-15T09:31:07.781263Z",
     "iopub.status.busy": "2024-06-15T09:31:07.780912Z",
     "iopub.status.idle": "2024-06-15T09:31:07.789323Z",
     "shell.execute_reply": "2024-06-15T09:31:07.788178Z",
     "shell.execute_reply.started": "2024-06-15T09:31:07.781234Z"
    },
    "papermill": {
     "duration": null,
     "end_time": null,
     "exception": null,
     "start_time": null,
     "status": "pending"
    },
    "tags": []
   },
   "outputs": [],
   "source": [
    "# Count the number of occurrences of each product\n",
    "product_counts = df['Product'].value_counts()\n",
    "\n",
    "# Identify the most famous product\n",
    "most_famous_product = product_counts.idxmax()\n",
    "most_famous_count = product_counts.max()\n",
    "\n",
    "print(f\"The most famous product is '{most_famous_product}' with {most_famous_count} occurrences.\")\n"
   ]
  },
  {
   "cell_type": "markdown",
   "id": "5ae753b6",
   "metadata": {
    "papermill": {
     "duration": null,
     "end_time": null,
     "exception": null,
     "start_time": null,
     "status": "pending"
    },
    "tags": []
   },
   "source": [
    "# market_type_counts"
   ]
  },
  {
   "cell_type": "code",
   "execution_count": null,
   "id": "89bc8292",
   "metadata": {
    "execution": {
     "iopub.execute_input": "2024-06-15T09:31:07.791013Z",
     "iopub.status.busy": "2024-06-15T09:31:07.790671Z",
     "iopub.status.idle": "2024-06-15T09:31:07.803448Z",
     "shell.execute_reply": "2024-06-15T09:31:07.802222Z",
     "shell.execute_reply.started": "2024-06-15T09:31:07.790974Z"
    },
    "papermill": {
     "duration": null,
     "end_time": null,
     "exception": null,
     "start_time": null,
     "status": "pending"
    },
    "tags": []
   },
   "outputs": [],
   "source": [
    "# Assuming 'Market' is the market type column\n",
    "market_type_counts = df['Market'].value_counts()\n",
    "print(market_type_counts)"
   ]
  },
  {
   "cell_type": "markdown",
   "id": "aaaf8d23",
   "metadata": {
    "papermill": {
     "duration": null,
     "end_time": null,
     "exception": null,
     "start_time": null,
     "status": "pending"
    },
    "tags": []
   },
   "source": [
    "# pie chart (Distribution of Market Types)"
   ]
  },
  {
   "cell_type": "code",
   "execution_count": null,
   "id": "768a2fc8",
   "metadata": {
    "execution": {
     "iopub.execute_input": "2024-06-15T09:31:07.805337Z",
     "iopub.status.busy": "2024-06-15T09:31:07.804910Z",
     "iopub.status.idle": "2024-06-15T09:31:08.017192Z",
     "shell.execute_reply": "2024-06-15T09:31:08.015620Z",
     "shell.execute_reply.started": "2024-06-15T09:31:07.805298Z"
    },
    "papermill": {
     "duration": null,
     "end_time": null,
     "exception": null,
     "start_time": null,
     "status": "pending"
    },
    "tags": []
   },
   "outputs": [],
   "source": [
    "# Create a pie chart\n",
    "plt.figure(figsize=(8, 8))\n",
    "plt.pie(market_type_counts, labels=market_type_counts.index, autopct='%1.1f%%', startangle=140, colors=plt.cm.Paired.colors)\n",
    "plt.title('Distribution of Market Types')\n",
    "plt.axis('equal')  # Equal aspect ratio ensures that pie is drawn as a circle.\n",
    "\n",
    "# Show the plot\n",
    "plt.show()"
   ]
  },
  {
   "cell_type": "markdown",
   "id": "b1b45941",
   "metadata": {
    "papermill": {
     "duration": null,
     "end_time": null,
     "exception": null,
     "start_time": null,
     "status": "pending"
    },
    "tags": []
   },
   "source": [
    "# The most profitable state with product type "
   ]
  },
  {
   "cell_type": "code",
   "execution_count": null,
   "id": "2021bacf",
   "metadata": {
    "execution": {
     "iopub.execute_input": "2024-06-15T09:31:08.019377Z",
     "iopub.status.busy": "2024-06-15T09:31:08.019015Z",
     "iopub.status.idle": "2024-06-15T09:31:08.032681Z",
     "shell.execute_reply": "2024-06-15T09:31:08.031423Z",
     "shell.execute_reply.started": "2024-06-15T09:31:08.019343Z"
    },
    "papermill": {
     "duration": null,
     "end_time": null,
     "exception": null,
     "start_time": null,
     "status": "pending"
    },
    "tags": []
   },
   "outputs": [],
   "source": [
    "# Convert dictionary to pandas DataFrame\n",
    "df = pd.DataFrame(df)\n",
    "\n",
    "# Calculate total profit for each state and product type combination\n",
    "state_product_profit = df.groupby(['State', 'Product Type'])['Profit'].sum().reset_index()\n",
    "\n",
    "# Find the most profitable state and product type combination\n",
    "most_profitable = state_product_profit.loc[state_product_profit['Profit'].idxmax()]\n",
    "\n",
    "print(\"The most profitable state with product type is:\")\n",
    "print(f\"State: {most_profitable['State']}\")\n",
    "print(f\"Product Type: {most_profitable['Product Type']}\")\n",
    "print(f\"Total Profit: {most_profitable['Profit']}\")"
   ]
  },
  {
   "cell_type": "markdown",
   "id": "b1d29735",
   "metadata": {
    "papermill": {
     "duration": null,
     "end_time": null,
     "exception": null,
     "start_time": null,
     "status": "pending"
    },
    "tags": []
   },
   "source": [
    "# Top 5 products based on profit-to-sales ratio"
   ]
  },
  {
   "cell_type": "code",
   "execution_count": null,
   "id": "f6311349",
   "metadata": {
    "execution": {
     "iopub.execute_input": "2024-06-15T09:31:08.034258Z",
     "iopub.status.busy": "2024-06-15T09:31:08.033919Z",
     "iopub.status.idle": "2024-06-15T09:31:08.055110Z",
     "shell.execute_reply": "2024-06-15T09:31:08.053827Z",
     "shell.execute_reply.started": "2024-06-15T09:31:08.034229Z"
    },
    "papermill": {
     "duration": null,
     "end_time": null,
     "exception": null,
     "start_time": null,
     "status": "pending"
    },
    "tags": []
   },
   "outputs": [],
   "source": [
    "# Calculate profit-to-sales ratio for each product\n",
    "df['Profit-to-Sales Ratio'] = df['Profit'] / df['Sales']\n",
    "\n",
    "# Sort the DataFrame by profit-to-sales ratio in descending order and select top 5\n",
    "top_products = df.sort_values(by='Profit-to-Sales Ratio', ascending=False).head(5)\n",
    "\n",
    "# Display the top 5 products\n",
    "print(\"Top 5 products based on profit-to-sales ratio:\")\n",
    "top_products[['Product', 'Profit', 'Sales', 'Profit-to-Sales Ratio']]"
   ]
  }
 ],
 "metadata": {
  "kaggle": {
   "accelerator": "none",
   "dataSources": [
    {
     "datasetId": 1736581,
     "sourceId": 2847247,
     "sourceType": "datasetVersion"
    }
   ],
   "dockerImageVersionId": 30732,
   "isGpuEnabled": false,
   "isInternetEnabled": true,
   "language": "python",
   "sourceType": "notebook"
  },
  "kernelspec": {
   "display_name": "Python 3",
   "language": "python",
   "name": "python3"
  },
  "language_info": {
   "codemirror_mode": {
    "name": "ipython",
    "version": 3
   },
   "file_extension": ".py",
   "mimetype": "text/x-python",
   "name": "python",
   "nbconvert_exporter": "python",
   "pygments_lexer": "ipython3",
   "version": "3.10.13"
  },
  "papermill": {
   "default_parameters": {},
   "duration": 8.353152,
   "end_time": "2024-06-15T09:37:59.332680",
   "environment_variables": {},
   "exception": true,
   "input_path": "__notebook__.ipynb",
   "output_path": "__notebook__.ipynb",
   "parameters": {},
   "start_time": "2024-06-15T09:37:50.979528",
   "version": "2.5.0"
  }
 },
 "nbformat": 4,
 "nbformat_minor": 5
}
